{
 "metadata": {
  "language_info": {
   "codemirror_mode": {
    "name": "ipython",
    "version": 3
   },
   "file_extension": ".py",
   "mimetype": "text/x-python",
   "name": "python",
   "nbconvert_exporter": "python",
   "pygments_lexer": "ipython3",
   "version": "3.7.10-final"
  },
  "orig_nbformat": 2,
  "kernelspec": {
   "name": "python3",
   "display_name": "Python 3.7.10 64-bit (conda)",
   "metadata": {
    "interpreter": {
     "hash": "c02037e49f84d354436ab1f5d64f5b57e9c6081773048d2a8c26d6200f612ab1"
    }
   }
  }
 },
 "nbformat": 4,
 "nbformat_minor": 2,
 "cells": [
  {
   "source": [
    "# Slicing Pada Python\n",
    "\n",
    "adalah memilih data dari kumpulan data. Seringkali ada data atau kolom yang tidak kita butuhkan. Oleh karena itu disinilah fungsi slicing yaitu untuk memotong. Dalam list tanda \":\" merupakan fungsi untuk memilih semua index yang ada atau milih semua data. \n",
    "\n",
    "Misal kita punya list handphone.\n",
    "\n",
    "```\n",
    "hp = ['Samsung','ROG','Xiaomi','Oppo','Vivo','Realme','Poco','iPhone']\n",
    "```\n",
    "\n",
    "Jadi jika kita ingin :\n",
    "* mencetak Samsung, kodenya adalah `hp[0]`\n",
    "* mencetak Samsung, ROG, kodenya adalah `hp[:2]`\n",
    "* mencetak ROG sampai Oppo, kodenya adalah `hp[1:4]`"
   ],
   "cell_type": "markdown",
   "metadata": {}
  },
  {
   "cell_type": "code",
   "execution_count": null,
   "metadata": {},
   "outputs": [],
   "source": []
  },
  {
   "source": [
    "Perlu diperhatikan bahwa slicing dalam python, urutan terakhir tidak dibaca oleh bahasa python itu sendiri. Maka dalam perintah [1:4] kita memberikan perintah slicing mulai index 1 sampai index 4 sebagai batas akhir (di mana index 4 ini tidak termasuk ke dalamnya). Sehingga yang dieksekusi adalah index ke 1 sampai 3."
   ],
   "cell_type": "markdown",
   "metadata": {}
  },
  {
   "cell_type": "code",
   "execution_count": null,
   "metadata": {},
   "outputs": [],
   "source": []
  }
 ]
}