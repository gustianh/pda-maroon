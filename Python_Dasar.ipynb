{
  "nbformat": 4,
  "nbformat_minor": 0,
  "metadata": {
    "colab": {
      "name": "Python_Dasar.ipynb",
      "provenance": [],
      "include_colab_link": true
    },
    "kernelspec": {
      "name": "python3",
      "display_name": "Python 3"
    }
  },
  "cells": [
    {
      "cell_type": "markdown",
      "metadata": {
        "id": "view-in-github",
        "colab_type": "text"
      },
      "source": [
        "<a href=\"https://colab.research.google.com/github/gustianh/pda-maroon/blob/main/Python_Dasar.ipynb\" target=\"_parent\"><img src=\"https://colab.research.google.com/assets/colab-badge.svg\" alt=\"Open In Colab\"/></a>"
      ]
    },
    {
      "cell_type": "markdown",
      "metadata": {
        "id": "ZAMqfyFWNGv8"
      },
      "source": [
        "# **SELAMAT DATANG DI NOTEBOOK PYTHON BASIC FOR DATA MINING**\n",
        "\n",
        "## **Tips**\n",
        "*   Untuk menjalankan kode kalian bisa klik tombol `RUN` pada cell yang tersedia.\n",
        "*   Atau, kalian bisa tekan `Shift+Enter` untuk menjalankan cell.\n",
        "\n"
      ]
    },
    {
      "cell_type": "markdown",
      "metadata": {
        "id": "dDBQXiyyODon"
      },
      "source": [
        "Item|Informasi\n",
        "----|-----\n",
        "Tanggal|23 Maret 2021\n"
      ]
    },
    {
      "cell_type": "markdown",
      "metadata": {
        "id": "m1b7n-hlOXX9"
      },
      "source": [
        "# **Hello World!**\n",
        "\n",
        "Seperti biasanya, dalam bahasa pemrograman pasti dibuka dengan Hello World! Mari kita coba. Ketikkan : `\"Halo, dunia!\"` "
      ]
    },
    {
      "cell_type": "code",
      "metadata": {
        "id": "jjN_ajagPKqk"
      },
      "source": [
        ""
      ],
      "execution_count": null,
      "outputs": []
    },
    {
      "cell_type": "markdown",
      "metadata": {
        "id": "cOW1vEB_Ibq0"
      },
      "source": [
        "# **A. ATURAN PENULISAN PYTHON**\n",
        "## **1. Python Menggunakan Indentasi/Blok**\n",
        "\n",
        "Indentasi ini bisa menggunakan **tab** atau **spasi**. Perbedaan indentasi menyebabkan *error*. Sebagai contoh ketikkan kode berikut : *ketiikan secara berurut ya*\n",
        "*   `a = 5`\n",
        "*   [beri 1 tab] `b = 2`\n",
        "* c = `a+b`\n",
        "* [beri 1 tab] `c`\n",
        "\n",
        "Maka akan menampilkan error yaitu **unexpected indent**\n",
        "\n"
      ]
    },
    {
      "cell_type": "code",
      "metadata": {
        "id": "Rb4pTSKyRGqb"
      },
      "source": [
        ""
      ],
      "execution_count": null,
      "outputs": []
    },
    {
      "cell_type": "markdown",
      "metadata": {
        "id": "ydAfU2qVPkzK"
      },
      "source": [
        "## **2. Pernyataan dalam Python tidak diakhiri dengan tanda titik koma (;)**\n",
        "\n",
        "Cobalah ketikkan kodingan berikut :\n",
        "```print('kelas kl');```"
      ]
    },
    {
      "cell_type": "code",
      "metadata": {
        "id": "Ioe2lcCoRQcl"
      },
      "source": [
        ""
      ],
      "execution_count": null,
      "outputs": []
    },
    {
      "cell_type": "markdown",
      "metadata": {
        "id": "AiDVzlK1RSnb"
      },
      "source": [
        "lalu cobalah hilangkan tanda titik koma (;) - nya dan coba jalankan. "
      ]
    },
    {
      "cell_type": "markdown",
      "metadata": {
        "id": "oswCnnISJGI0"
      },
      "source": [
        "## **3. Pernyataan dalam Python dinyatakan pada satu baris. Jadi akhir dari sebuah pernyataan adalah baris baru**\n",
        "\n",
        "Coba ketikkan kode berikut : *ketikkan satu persatu ya ikuti alurnya*\n",
        "1.   ```panjang = 5```\n",
        "2.   ```lebar = 2```\n",
        "3. ```luas = panjang*lebar```\n",
        "4. ```luas```\n",
        "\n"
      ]
    },
    {
      "cell_type": "code",
      "metadata": {
        "id": "vOPRFQZ2J0WY"
      },
      "source": [
        ""
      ],
      "execution_count": null,
      "outputs": []
    },
    {
      "cell_type": "markdown",
      "metadata": {
        "id": "bts9wbslKmiW"
      },
      "source": [
        "## **4. Jika pernyataan yang panjangnya terdiri lebih dari 1 baris maka dapat dilakukan dengan menggunakan tanda ```backslash (\\)```**\n",
        "\n",
        "Coba ketikkan kode berikut : *ketikkan satu persatu ya, ikuti alurnya*\n",
        "\n",
        "*   `panjang = 6`\n",
        "*   `lebar = 2`\n",
        "*   `tinggi = 1`\n",
        "*   ```volume = panjang*lebar*\\```\n",
        "*   ```tinggi```\n",
        "\n",
        "\n",
        "\n",
        "\n",
        "\n",
        "\n",
        "\n"
      ]
    },
    {
      "cell_type": "code",
      "metadata": {
        "id": "yTdicW-RLzJj"
      },
      "source": [
        ""
      ],
      "execution_count": null,
      "outputs": []
    },
    {
      "cell_type": "markdown",
      "metadata": {
        "id": "STvF4NyrRtHw"
      },
      "source": [
        "## **5. Sebagai penanda string Python menggunakan tanda kutip, baik tunggal (‘), ganda (‘’). Nah, tanda kutip 3 (‘’’) digunakan untuk string multibaris**\n",
        "\n",
        "Ketikkan kode berikut ini, satu persatu ya! :)\n",
        "*   `nama_depan = 'ketik deh namamu'`\n",
        "*   `nama_belakang = \"ketik deh namamu\"`\n",
        "* `biodata = '''Saya tinggal di Bogor Kota. Menyukai kopi dan tentunya code. Namun desain adalah jiwaku'''`\n",
        "\n"
      ]
    },
    {
      "cell_type": "markdown",
      "metadata": {
        "id": "sxhncWbYTF0O"
      },
      "source": [
        "# **B. TIPE DATA**"
      ]
    },
    {
      "cell_type": "markdown",
      "metadata": {
        "id": "2jlD7fvDUepW"
      },
      "source": [
        "## **1. Karakter**\n",
        "Biasanya menggunakan tanda petik satu ('') atau petik dua (\"\"). Bisakah kamu ketikan namamu? Taruh dalam variabel `nama` ya. "
      ]
    },
    {
      "cell_type": "code",
      "metadata": {
        "id": "JY8IUxzfS4E8"
      },
      "source": [
        ""
      ],
      "execution_count": null,
      "outputs": []
    },
    {
      "cell_type": "markdown",
      "metadata": {
        "id": "VmQwYjA5U1pn"
      },
      "source": [
        "## **2. Numerik (Bilangan Bulat) / Integer**\n",
        "Ketikkan : \n",
        "*   `a = 21`\n",
        "*   `print('umurku adalah',a)`\n",
        "\n"
      ]
    },
    {
      "cell_type": "markdown",
      "metadata": {
        "id": "T10ijJhsVnuY"
      },
      "source": [
        "## **3. Float / Desimal / Punya Koma**\n",
        "Ketikkan :\n",
        "*   `b = 21.5`\n",
        "*   `print('harga rumah adalah',b)`\n",
        "\n"
      ]
    },
    {
      "cell_type": "code",
      "metadata": {
        "id": "7V6P0nfsVd-D"
      },
      "source": [
        ""
      ],
      "execution_count": null,
      "outputs": []
    },
    {
      "cell_type": "markdown",
      "metadata": {
        "id": "2SasjToiW00X"
      },
      "source": [
        "## **4. Heksadesimal**\n",
        "Menyatakan bilangan basis 16. Menggunakan fungsi `hex()`. Coba ketikkan kode berikut :\n",
        "\n",
        "\n",
        "*   `a = 122`\n",
        "*   `print('122 ke basis 16 adalah:', hex(a))`\n",
        "\n"
      ]
    },
    {
      "cell_type": "code",
      "metadata": {
        "id": "Bo_tCwR8XXDQ"
      },
      "source": [
        ""
      ],
      "execution_count": null,
      "outputs": []
    },
    {
      "cell_type": "markdown",
      "metadata": {
        "id": "jOYWp5fgX48a"
      },
      "source": [
        "# **C. PERCABANGAN**\n",
        "Percabangan dalam `Python` adalah if, elif (else if), dan else.\n",
        "## **1. IF**\n",
        "\n",
        "Pernyataan suatu kondisi jika ... \n",
        "Ketikkan kode berikut :\n",
        "\n",
        "\n",
        "*   `a = 5`\n",
        "*   `b = 2`\n",
        "*   `if a > b:`\n",
        "*   [beri 1 tab] `print(\"a lebih besar dari b\")`\n",
        "\n"
      ]
    },
    {
      "cell_type": "code",
      "metadata": {
        "id": "v4MMcGxYY-xd"
      },
      "source": [
        ""
      ],
      "execution_count": null,
      "outputs": []
    },
    {
      "cell_type": "markdown",
      "metadata": {
        "id": "8t0f2ICuZjbr"
      },
      "source": [
        "## **2. IF .. ELSE**\n",
        "\n",
        "Suatu kondisi jika x kalau tidak y. Ketikkan kode berikut :\n",
        "\n",
        "\n",
        "*   `tabungan = 1100`\n",
        "*`jajan = 1000`\n",
        "*    `makan = 500`\n",
        "* `minum = 100`\n",
        "* `jajan = jajan - makan + minum`\n",
        "*  `if jajan > 600:`\n",
        "* [beri 1 tab] `print(\"duit aman\")`\n",
        "* `elif tabungan > 500:`\n",
        "* [beri 1 tab] `print(\"Masih aman gan\")`\n",
        "\n"
      ]
    },
    {
      "cell_type": "code",
      "metadata": {
        "id": "Hbh3UI8vauuA"
      },
      "source": [
        ""
      ],
      "execution_count": null,
      "outputs": []
    },
    {
      "cell_type": "markdown",
      "metadata": {
        "id": "lcgpPnXlbHnF"
      },
      "source": [
        "## **Referensi**\n",
        "*   Modul Praktikum Pemrograman Data Analisis 2021\n",
        "\n",
        "## **Belajar Lebih Dasar Python** [PythonIndo](https://www.pythonindo.com/tutorial-python-dasar/)\n",
        "\n"
      ]
    }
  ]
}