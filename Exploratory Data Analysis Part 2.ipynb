{
 "metadata": {
  "language_info": {
   "codemirror_mode": {
    "name": "ipython",
    "version": 3
   },
   "file_extension": ".py",
   "mimetype": "text/x-python",
   "name": "python",
   "nbconvert_exporter": "python",
   "pygments_lexer": "ipython3",
   "version": "3.7.10-final"
  },
  "orig_nbformat": 2,
  "kernelspec": {
   "name": "python3",
   "display_name": "Python 3.7.10 64-bit (conda)",
   "metadata": {
    "interpreter": {
     "hash": "c02037e49f84d354436ab1f5d64f5b57e9c6081773048d2a8c26d6200f612ab1"
    }
   }
  }
 },
 "nbformat": 4,
 "nbformat_minor": 2,
 "cells": [
  {
   "source": [
    "# **EXPLORATORY DATA ANALYSIS PART 2**\n",
    "\n"
   ],
   "cell_type": "markdown",
   "metadata": {}
  },
  {
   "source": [
    "Sebelumnya kita load terlebih dahulu data Iris sebelum dilakukan proses analisis :\n",
    "\n",
    "```\n",
    "import matplotlib.pyplot as plt\n",
    "import numpy as np\n",
    "import pandas as pd \n",
    "\n",
    "jalur_file = r'https://archive.ics.uci.edu/ml/machine-learning-databases/iris/iris.data'\n",
    "atribut_data = ['sepal-length', 'sepal-width', 'petal-length',\n",
    "              'petal-width', 'class']\n",
    "data_iris = pd.read_csv(jalur_file, names=atribut_data)\n",
    "data_iris\n",
    "```\n"
   ],
   "cell_type": "markdown",
   "metadata": {}
  },
  {
   "cell_type": "code",
   "execution_count": null,
   "metadata": {},
   "outputs": [],
   "source": []
  },
  {
   "source": [
    "# **A. UNIVARIATE ANALYSIS**\n",
    "\n",
    "Univariate Analysis merupakan analisis sederhana karena yang akan dianalisis hanya memiliki **satu variable** atau variable tunggal. Sehingga variable ini tidak berurusan dengan hubungan atau sebab. Tujuan dari univariate analysis ini yaitu mendeskripsikan data dan menemukan pola yang ada didalamnya.\n"
   ],
   "cell_type": "markdown",
   "metadata": {}
  },
  {
   "source": [
    "## **1. Box Plot | Whisker Box**\n",
    "\n",
    "Menampilkan 5 angka ringkasan dari kumpulan data. Kelima ringkasan itu adalah nilai minimum, kuartile pertama, median, kuartile ketiga, dan nilai maksimum.\n",
    "\n",
    "![teks alternatif](https://miro.medium.com/max/8000/1*0MPDTLn8KoLApoFvI0P2vQ.png)\n",
    "\n",
    "Berdasarkan gambar bahwa data outlier adalah nilai yang berada diluar nilai minimum dan maximum.\n",
    "\n",
    "Cara memvisualisasikan Iris data dengan Box Plot adalah sebagai berikut :\n",
    "```\n",
    "# visualize boxplot\n",
    "plt.figure(figsize=(10,7))\n",
    "data_iris.boxplot()\n",
    "```\n"
   ],
   "cell_type": "markdown",
   "metadata": {}
  },
  {
   "cell_type": "code",
   "execution_count": null,
   "metadata": {},
   "outputs": [],
   "source": []
  },
  {
   "source": [
    "dari visualisasi diatas kita dapat melihat pada bagian tampilan dari `sepal-width` adanya titik - titik dibawah nilai minimum dan diatas nilai maksimum. Itu adalah outliers atau pencilan. "
   ],
   "cell_type": "markdown",
   "metadata": {}
  },
  {
   "source": [
    "## **2. Histogram Sepal Length of Iris Data**\n",
    "\n",
    "Dengan `Box Plot` kita melihat pada `sepal-length` ada outlier. Namun kita ingin mengetahui bagaimana visualisasi datanya. Nah kita bisa menggunakan histogram. Berikut adalah kodenya :\n",
    "\n",
    "```\n",
    "# histogram\n",
    "plt.figure(figsize = (10, 7))\n",
    "x = data_iris[\"sepal-length\"]\n",
    "plt.hist(x, bins = 20, color = \"blue\")\n",
    "plt.title(\"Sepal Length Iris\")\n",
    "plt.xlabel(\"Sepal-length\")\n",
    "plt.ylabel(\"Count\")\n",
    "```\n",
    "\n",
    "**Keterangan**\n",
    "\n",
    "1. `plt.figure(figsize = (10, 7))` adalah syntax untuk membuat bingkai dengan ukuran tertentu \n",
    "\n",
    "2. `x = data_iris[\"sepal-width\"]` adalah syntax untuk mendeklarasikan dataset kedalam sumbu X / variable x\n",
    "\n",
    "3. `plt.hist(x, bins = 20, color = \"blue\")` adalah syntax untuk membuat histogram dimana **x** = inputan data, **bins** = ukuran histogram antar data, **color** = warna histogram\n",
    "\n",
    "4. `plt.title(\"Sepal Length Iris\")` adalah syntax untuk memberikan judul pada histogram yang kita buat\n",
    "\n",
    "5. `plt.xlabel(\"Sepal-length\")` adalah syntax untuk memberi nama pada sumbu x\n",
    "\n",
    "6. `plt.ylabel(\"Count\")` adalah syntax untuk memberi nama pada sumbu y"
   ],
   "cell_type": "markdown",
   "metadata": {}
  },
  {
   "cell_type": "code",
   "execution_count": null,
   "metadata": {},
   "outputs": [],
   "source": []
  },
  {
   "source": [
    "Kita perhatikan dari visualisasi daiatas.  Perhatikan pada data kisaran 2.0 - 2.1 serta 3,9 - 4,4 (kira kira). Histogram terlihat melandai artinya ada beberapa data terkait bunga Iris yang tebal sepal atau sepal widthnya diatas 4.0 dan mendekati 2.0 yang berada di luar nilai max dan min pada box plot. Jika lupa, Anda bisa mengecek deskripsi statistik singkatnya dengan fungsi `describe()` yaitu dengan mengetikkan `dataset.describe()`."
   ],
   "cell_type": "markdown",
   "metadata": {}
  },
  {
   "cell_type": "code",
   "execution_count": null,
   "metadata": {},
   "outputs": [],
   "source": []
  },
  {
   "source": [
    "# **B. MULTIVARIATE ANALYSIS**\n",
    "\n",
    "Multivariate Analysis merupakan teknik analisis yang mana data bisa muncul dengan lebih dari satu variable. Tujuan menggunakan Multivariate Analysis ini untuk memodelkan data lebih realistis, karena variable dalam pengambilan keputusannya melibatkan lebih dari satu variable."
   ],
   "cell_type": "markdown",
   "metadata": {}
  },
  {
   "source": [
    "## **1. Violin Chart**\n",
    "\n",
    "Grafik Violin digunakan untuk melihat density atau kepadatan dari suatu data. Violin yang semakin besar atau menggembung menandakan kepadatan datanya semakin banyak, ditinjau dari kolom atau features data yang divisualisasikan.\n",
    "\n",
    "Berikut kodenya :\n",
    "\n",
    "```\n",
    "import matplotlib.pyplot as plt\n",
    "import seaborn as sns\n",
    "\n",
    "sns.violinplot(x=\"class\", y=\"petal-length\", data=data_iris, size=6)\n",
    "plt.show()\n",
    "```"
   ],
   "cell_type": "markdown",
   "metadata": {}
  },
  {
   "cell_type": "code",
   "execution_count": null,
   "metadata": {},
   "outputs": [],
   "source": []
  },
  {
   "source": [
    "Dari visualisasi diatas kita bisa melihat bahwa density paling padat ada di `iris=setosa`. Dari sini kita bisa menyimpulkan bahwa dibanyak data yang ada, atau kolom features mulai dari sepal-length hingga petal-width lebih banyak merepresentasikan kategori `Iris-Setosa`."
   ],
   "cell_type": "markdown",
   "metadata": {}
  },
  {
   "source": [
    "## **2. Paiprlot Chart using Seaborn**\n",
    "\n",
    "Pairplot ini adalah grafik yang merepresentasikan hubungan antara dua variabel. Dari sini kita bisa melihat secara kasar bagaimana karakteristik suatu data, atau hubungan antara varibel dalam data tersebut. Dengan kode hanya 1 baris, ini adalah chart yang paling powerfull. Berikut kodenya :\n",
    "\n",
    "```\n",
    "import seaborn as sns\n",
    "from seaborn import pairplot\n",
    "\n",
    "sns.pairplot(data_iris, hue='class').add_legend()\n",
    "```\n",
    "\n",
    "**Keterangan**\n",
    "\n",
    "1. `import seaborn as sns` adalah syntax untuk memanggil library seaborn dengan sns adalah sebagai prefix nya.\n",
    "\n",
    "2. `from seaborn import pairplot` dari seaborn kita panggil fungsi pairplot.\n",
    "3. `sns.pairplot(dataset, hue =\"class\").add_legend()` perintah untuk menampilkan pairplot dengan penambahan keterangan atau legend.\n"
   ],
   "cell_type": "markdown",
   "metadata": {}
  },
  {
   "cell_type": "code",
   "execution_count": null,
   "metadata": {},
   "outputs": [],
   "source": []
  },
  {
   "source": [
    "Dari visualisasi diatas kita bisa melihat matriks grafik yaitu hubungan 2 variabel dari data Iris. Mulai dari sisi paling kiri kita melihat hubungan antara sepal-length dengan petal-width. Kemudian ada 2 macam grafik yang ditampilkan yaitu **Scatter (diagram pencar)** dan **Diagram KDE**. \n",
    "\n",
    "Hasil analisisnya adalah :\n",
    "Perhatikan warna biru yang merupakan warna untuk `Iris Setosa`. Sebelumnya di `Violin Chart` kita sudah melihat bahwa kepdatan data paling banyak ada di Iris Setosa. Dimana features data cenderung lebih menjelaskan tentang Iris Setosa. Begitu juga seperti yang terlihat di grafik diatas, mulai dari hubungan sepal-length dengan petal-width kita melihat Iris setosa berkelompok dengan baik. "
   ],
   "cell_type": "markdown",
   "metadata": {}
  },
  {
   "source": [
    "# **References**\n",
    "\n",
    "* **Python Docs**. https://docs.python.org/3/library/io.html \n",
    "* **LABKOM**. 2021. \"Modul Pemrograman Data Analisis\". Bogor. Laboratorium Ilmu Komputer UNPAK\n",
    "* **Avuluri, V. S. R**. 2019. EDA of Iris Data using Python . https://medium.com/@avulurivenkatasaireddy/exploratory-data-analysis-of-iris-data-set-using-python-823e54110d2d\n",
    "*  **Koeherlsen, W**. 2018. Visualizing Data using Pairplots. https://towardsdatascience.com/visualizing-data-with-pair-plots-in-python-f228cf529166\n",
    "* **Kaggle**. 2018. Visualizing Iris Data. https://www.kaggle.com/kstaud85/iris-data-visualization\n",
    "* **Restori, M**. What is EDA?. https://chartio.com/learn/data-analytics/what-is-exploratory-data-analysis/ "
   ],
   "cell_type": "markdown",
   "metadata": {}
  }
 ]
}