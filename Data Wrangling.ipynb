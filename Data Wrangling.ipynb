{
  "nbformat": 4,
  "nbformat_minor": 0,
  "metadata": {
    "colab": {
      "name": "P4 - EDA",
      "provenance": [],
      "collapsed_sections": [],
      "include_colab_link": true
    },
    "kernelspec": {
      "name": "python3",
      "display_name": "Python 3"
    },
    "language_info": {
      "name": "python"
    }
  },
  "cells": [
    {
      "cell_type": "markdown",
      "metadata": {
        "id": "view-in-github",
        "colab_type": "text"
      },
      "source": [
        "<a href=\"https://colab.research.google.com/github/gustianh/pda-maroon/blob/main/Data%20Wrangling.ipynb\" target=\"_parent\"><img src=\"https://colab.research.google.com/assets/colab-badge.svg\" alt=\"Open In Colab\"/></a>"
      ]
    },
    {
      "cell_type": "markdown",
      "metadata": {
        "id": "QgZ7kkIpEcs0"
      },
      "source": [
        "#**Exploratory Data Analysis**\n",
        "Adalah proses pendekatan atau analisa suatu kumpulan data untuk meringkas bagaimana kareateristik suatu data tersebut, biasanya EDA ditampilkan dengan metode visualisasi\n",
        "\n",
        "Dengan melakukan EDA, kita dapat lebih memahami kondisi dataset yang kita miliki. Sehingga, kita dapat memulai pembentukan model Machine Learning dengan lebih baik kedepannya. 'Memahami kondisi dataset' dapat merujuk pada sejumlah hal contohnya seperti berikut:\n",
        "\n",
        "1. Mengekstrak variabel penting dan mengabaikan atau menghapus ariabel yang tidak berguna\n",
        "2. Mengidentifikasi pencilan(outliers), nilai yang hilang(missing values), atau kesalahan manusia (human error)\n",
        "3. Memahami hubungan, atau kekurangan, antar variabel\n",
        "\n",
        "\n",
        "\n",
        "\n"
      ]
    },
    {
      "cell_type": "markdown",
      "metadata": {
        "id": "19lBQWctJm88"
      },
      "source": [
        "#**A. Library / Pustaka untuk Data Analisis di Python**"
      ]
    },
    {
      "cell_type": "markdown",
      "metadata": {
        "id": "Kwi4j-9sJ5li"
      },
      "source": [
        "## **1. NumPy**\n",
        "![teks alternatif](https://encrypted-tbn0.gstatic.com/images?q=tbn:ANd9GcTivZ_zhKPwQzzrLcTjQ8pSVTanadUTSZ7OTJ_3SnaVM0oUzEAFukxWms6Mp8Ju_HSQpPk&usqp=CAU)\n",
        "\n",
        "Adalah library pada Python yang fokus pada scientific computing. NumPy memiliki kemampuan untuk membentuk objek N-dimensional array, yang mirip dengan 69 list pada Python. Keunggulan NumPy array dibandingkan dengan list pada Python adalah\n",
        "konsumsi memori yang lebih kecil serta runtime yang lebih cepat"
      ]
    },
    {
      "cell_type": "markdown",
      "metadata": {
        "id": "5jiur9BPKODv"
      },
      "source": [
        "###**a. Instalasi Numpy**\n",
        "\n",
        "```\n",
        "# pip install numpy \n",
        "```\n",
        "atau\n",
        "```\n",
        "# conda install numpy\n",
        "```"
      ]
    },
    {
      "cell_type": "markdown",
      "metadata": {
        "id": "HVd0lByCKqVS"
      },
      "source": [
        "Silahkan coba sendiri dengan menggunakan sel dibawah ini:"
      ]
    },
    {
      "cell_type": "code",
      "metadata": {
        "id": "JmkRYfy6BoN7",
        "colab": {
          "base_uri": "https://localhost:8080/"
        },
        "outputId": "cadcf26c-7389-478a-af9a-67c2e981a24b"
      },
      "source": [
        ""
      ],
      "execution_count": null,
      "outputs": [
        {
          "output_type": "stream",
          "text": [
            "ERROR: unknown command \"instal\" - maybe you meant \"install\"\n"
          ],
          "name": "stdout"
        }
      ]
    },
    {
      "cell_type": "code",
      "metadata": {
        "id": "16LZAyqpK9bX"
      },
      "source": [
        ""
      ],
      "execution_count": null,
      "outputs": []
    },
    {
      "cell_type": "markdown",
      "metadata": {
        "id": "o1n1xmbnK98J"
      },
      "source": [
        "Secara default biasanya Google Colab sudah menyediakan semua kebutuhan dasar untuk analisi data, termasuk numpy di dalamnya"
      ]
    },
    {
      "cell_type": "markdown",
      "metadata": {
        "id": "8izSKw3wKpOF"
      },
      "source": [
        "###**b. Import Numpy**\n",
        "untuk mengimport library numpy silahkan ketikan syntax dibawah ini\n",
        "\n",
        "```\n",
        "# import numpy as np\n",
        "```\n",
        "\n"
      ]
    },
    {
      "cell_type": "markdown",
      "metadata": {
        "id": "ApnuzL9mTCgo"
      },
      "source": [
        "###**Praktik Numpy**\n",
        "Selanjutnya kita akan mencoba menggunakan numpy silahkan ketikan syntax dibawah ini\n",
        "\n",
        "```\n",
        "import numpy as np\n",
        "bil_genap = np.arange(0,10,2)\n",
        "print(bil_genap)\n",
        "```\n",
        "\n",
        "Silahkan coba sendiri dengan menggunakan sel dibawah ini:\n"
      ]
    },
    {
      "cell_type": "code",
      "metadata": {
        "id": "4Phk03CpTXDf"
      },
      "source": [
        ""
      ],
      "execution_count": null,
      "outputs": []
    },
    {
      "cell_type": "markdown",
      "metadata": {
        "id": "Vrn5Qb8xU_ZG"
      },
      "source": [
        "##**2. Pandas (Python for Data Analysis)**\n",
        "![teks alternatif](https://upload.wikimedia.org/wikipedia/commons/thumb/e/ed/Pandas_logo.svg/1200px-Pandas_logo.svg.png)\n",
        "\n",
        "Pandas merupakan library yang memudahkan dalam melakukan manipulasi, cleansing\n",
        "maupun analisis struktur data. Dengan menggunakan Pandas, dapat memanfaatkan lima fitur\n",
        "utama dalam pemrosesan dan analisis data, yaitu load, prepare, manipulate, modelling, dan\n",
        "analysis data."
      ]
    },
    {
      "cell_type": "markdown",
      "metadata": {
        "id": "cpPp9F3IVWhm"
      },
      "source": [
        "###**a. Instalasi Pandas**\n",
        "\n",
        "```\n",
        "# pip install pandas \n",
        "```\n",
        "atau\n",
        "```\n",
        "# conda install pandas\n",
        "```"
      ]
    },
    {
      "cell_type": "markdown",
      "metadata": {
        "id": "yiNeo7HYWYQg"
      },
      "source": [
        "Silahkan coba sendiri dengan menggunakan sel dibawah ini:"
      ]
    },
    {
      "cell_type": "code",
      "metadata": {
        "id": "Or-1klI_LeuA"
      },
      "source": [
        ""
      ],
      "execution_count": null,
      "outputs": []
    },
    {
      "cell_type": "markdown",
      "metadata": {
        "id": "gKk5OkjzWfZ4"
      },
      "source": [
        "###**b. Import Pandas**"
      ]
    },
    {
      "cell_type": "markdown",
      "metadata": {
        "id": "0uzV84xBW-y1"
      },
      "source": [
        "untuk mengimport library pandas silahkan ketikan syntax dibawah ini:\n",
        "\n",
        "```\n",
        "import pandas\n",
        "```\n",
        "\n"
      ]
    },
    {
      "cell_type": "markdown",
      "metadata": {
        "id": "JVYdvKs4XKU4"
      },
      "source": [
        "###**Praktik Pandas**"
      ]
    },
    {
      "cell_type": "markdown",
      "metadata": {
        "id": "x5kx5u26dZsH"
      },
      "source": [
        "####**1. Pandas dengan data dummy**\n",
        "\n",
        "Selanjutnya kita akan mengunakan pandas, silahkan ketikan syntax dibawah ini:\n",
        "\n",
        "**Pertama-tama mari kita panggil librarynya**\n",
        "```\n",
        "import pandas as pd\n",
        "import numpy as np\n",
        "```\n",
        "\n",
        "kita tetap memerlukan library numpy untuk membuat array data dummy atau data yang kita buat sendiri tanpa menggunakan dataset\n",
        "\n",
        "Silahkan coba sendiri dengan menggunakan sel dibawah ini:\n",
        "\n",
        "\n"
      ]
    },
    {
      "cell_type": "code",
      "metadata": {
        "id": "mEQ_3rS9WnOP"
      },
      "source": [
        ""
      ],
      "execution_count": null,
      "outputs": []
    },
    {
      "cell_type": "markdown",
      "metadata": {
        "id": "sh3romrkfLep"
      },
      "source": [
        "**Kedua kita akan membuat data frame dari data dummy**\n",
        "\n",
        "Silahkan ketikan syntax dibawah ini:\n",
        "\n",
        "```\n",
        "dataset = pd.DataFrame({\n",
        " \"Mata Kuliah\": [\"PDA\", \"Web Programming\", \"Optimasi\", \"Metodologi Penelitian\", \n",
        " \"Mobile Programming\", \"Text Mining\"], \n",
        " \"Tanggal Kuliah\": pd.Timestamp(\"20210222\"),\n",
        " \"SKS\": np.array([3] * 6, dtype=\"int32\"),\n",
        " \"Kategori\": pd.Categorical([\"Pilihan\", \"Wajib\", \"Wajib\", \"Wajib\", \"Pilihan\",\n",
        "  \"Pilihan\"]), \"Semester\": \"6\",\n",
        " })\n",
        "```\n",
        "\n",
        "Silahkan coba sendiri dengan menggunakan sel dibawah ini:"
      ]
    },
    {
      "cell_type": "code",
      "metadata": {
        "id": "dVsVB7r0fSR8"
      },
      "source": [
        ""
      ],
      "execution_count": null,
      "outputs": []
    },
    {
      "cell_type": "markdown",
      "metadata": {
        "id": "YMUQF41FlgYw"
      },
      "source": [
        "**Mari kita bahas**\n",
        "\n",
        "Pada bagian ini kita akan mendeklarasikan variabel dataset untuk menampung keterangan detail\n",
        "mahasiswa yang meliputi mata kuliah sampai semesternya. Jangan lupa disini juga\n",
        "kita mentransform apa yang sudah kita ketikkan kedalam dataframe menggunakan\n",
        "perintah pd.DataFrame.\n",
        "\n",
        "1. **pd.DataFrame()** adalah fungsi dalam library pandas untuk membuat sebuah dataframe tujuan pembuatan data frame ini adalah untuk membungkus / menyediakan tempat untuk dataset agar terlihat lebih rapih dan mudah kita baca atau analisa\n",
        "\n",
        "2. Bila teman teman perhatikan kita disini menggunakan **tipe data dictionary** untuk membuat dataset dummy, terlihat pada syntax \n",
        "```\n",
        "\"Mata Kuliah\": [\"PDA\", \"Web Programming\", \"Optimasi\", \"Metodologi Penelitian\", \n",
        " \"Mobile Programming\", \"Text Mining\"],\n",
        "```\n",
        "dimana \"Matakuliah\" akan bertindak sebagai **key** dan [\"PDA\", \"Web Programming\", \"Optimasi\", \"Metodologi Penelitian\", \n",
        " \"Mobile Programming\", \"Text Mining\"] bertindak sebagai **value**.\n",
        "\n",
        " nantinya key akan dijadikan sebagai **field atau nama colom** dan value akan dijadikan sebagai **record atau isi dataset** pada tabel dataset\n",
        "\n",
        "3. **pd.Timestamp()** adalah fungsi pada pandas untuk membuat penanggalan pada dataset\n",
        "\n",
        "4. **pd.Categorical()** adalah fungsi pada pandas untuk membuat variable dengan sifat data categorical\n",
        "\n",
        "5. **np.Array()** adalah fungsi dari libary numpy untuk membuat array"
      ]
    },
    {
      "cell_type": "markdown",
      "metadata": {
        "id": "-wRb6cbqlolr"
      },
      "source": [
        "**Ketiga kita akan mencoba menampilkan dataset**\n",
        "\n",
        "untuk menampilkan dataset silahkan ketikan syntax berikut ini:\n",
        "\n",
        "\n",
        "```\n",
        "print(dataset)\n",
        "```\n",
        "\n",
        "silahkan teman teman coba sendiri dengan menggunakan sel dibawah ini:\n"
      ]
    },
    {
      "cell_type": "code",
      "metadata": {
        "id": "RCFdG8T4gwKn"
      },
      "source": [
        ""
      ],
      "execution_count": null,
      "outputs": []
    },
    {
      "cell_type": "markdown",
      "metadata": {
        "id": "2DARhyf9mJJm"
      },
      "source": [
        "####**2. Load dataset dari storage ke Google Colab**\n",
        "\n",
        "Nah bila teman teman mempunyai dataset di laptop atau komputer teman teman bisa nih di upload ke google colab untuk mempraktikannya teman teman bisa ketikan syntax berikut:\n",
        "\n",
        "\n",
        "```\n",
        "import pandas as pd\n",
        "import io\n",
        "from google.colab import files\n",
        "file_upload = files.upload()\n",
        "dataset = pd.read_csv(io.BytesIO(file_upload['namafile.csv']))\n",
        "print(dataset)\n",
        "```\n",
        "\n",
        "silahkan teman teman coba sendiri dengan menggunakan sel dibawah ini:\n",
        "\n",
        "\n",
        "\n",
        "\n",
        "\n"
      ]
    },
    {
      "cell_type": "code",
      "metadata": {
        "colab": {
          "resources": {
            "http://localhost:8080/nbextensions/google.colab/files.js": {
              "data": "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",
              "ok": true,
              "headers": [
                [
                  "content-type",
                  "application/javascript"
                ]
              ],
              "status": 200,
              "status_text": ""
            }
          },
          "base_uri": "https://localhost:8080/",
          "height": 191
        },
        "id": "HU4bQpTy1jd8",
        "outputId": "3d22090e-3ef2-4111-cd9d-26ab17601485"
      },
      "source": [
        "import pandas as pd\n",
        "import io\n",
        "from google.colab import files\n",
        "file_upload = files.upload()\n",
        "dataset = pd.read_csv(io.BytesIO(file_upload['kapalPerang.csv']))\n",
        "print(dataset)"
      ],
      "execution_count": null,
      "outputs": [
        {
          "output_type": "display_data",
          "data": {
            "text/html": [
              "\n",
              "     <input type=\"file\" id=\"files-a0c8b048-1ce2-4c27-bbe1-47faeef7c6d8\" name=\"files[]\" multiple disabled\n",
              "        style=\"border:none\" />\n",
              "     <output id=\"result-a0c8b048-1ce2-4c27-bbe1-47faeef7c6d8\">\n",
              "      Upload widget is only available when the cell has been executed in the\n",
              "      current browser session. Please rerun this cell to enable.\n",
              "      </output>\n",
              "      <script src=\"/nbextensions/google.colab/files.js\"></script> "
            ],
            "text/plain": [
              "<IPython.core.display.HTML object>"
            ]
          },
          "metadata": {
            "tags": []
          }
        },
        {
          "output_type": "stream",
          "text": [
            "Saving kapalPerang.csv to kapalPerang (2).csv\n",
            "   Ukuran Meriam  Ketebalan Armor  Kecepatan      Kategori\n",
            "0            120             50.0         37     Destroyer\n",
            "1            180             95.0         34  LightCruiser\n",
            "2            285            180.0         33  HeavyCruiser\n",
            "3            380              NaN         30    Battleship\n",
            "4            460            350.0         28    Battleship\n",
            "5            140             60.0         34  LightCruiser\n"
          ],
          "name": "stdout"
        }
      ]
    },
    {
      "cell_type": "markdown",
      "metadata": {
        "id": "3IxgxCpVpQxs"
      },
      "source": [
        "**Mari Kita Bahas**\n",
        "\n",
        "1. **import pandas as pd** adalah syntax untuk memanggil libary pandas dan menginisialisasinya dengan pd agar lebih mudah dalam proses pengetikan syntax (jd g panjang panjang nulis pandas tinggal ketik pd ajj)\n",
        "\n",
        "2. **import os** adalah syntax untuk mengimport pustaka OS agar bisa kompatible dengan semua OS yang digunakan.\n",
        "\n",
        "3. **file_upload = files.upload()** adalah syntax untuk mendeklarasikan variable file_upload untuk menampung input dari fungsi file_upload()\n",
        "\n",
        "4. **dataset = pd.read_csv(io.BytesIO(file_upload['namafile.csv']))** adalah syntax untuk mendeklarasikan variabel **dataset** untuk menampung perintah untuk membaca file\n",
        "dengan bantuan pustaka pandas, agar dicetak dengan bentuk dataframe"
      ]
    },
    {
      "cell_type": "markdown",
      "metadata": {
        "id": "ZtFu_rKa4tqm"
      },
      "source": [
        "####**3. Load Daset dari Link URL**\n",
        "\n",
        "Sering dijumpai dataset disimpan dalam suatu link. Nah bagaimana kita memuat data tesebut ? Contoh kasus mengambil dataset Iris dari UCI\n",
        "Machine Learning Repository.Untuk mempraktikannya sialhakn teman teman tulis syntax dibawah ini:\n",
        "\n",
        "\n",
        "\n",
        "```\n",
        "import pandas as pd \n",
        "file_path = r'https://archive.ics.uci.edu/ml/machine-learning-databases/iris/iris.data'\n",
        "attributes = ['sepal-length', 'sepal-width', 'petal-length',\n",
        "              'petal-width', 'class']\n",
        "dataset = pd.read_csv(file_path, names=attributes)\n",
        "```\n",
        "\n",
        "silahkan teman teman coba sendiri dengan menggunakan sel dibawah ini:\n",
        "\n"
      ]
    },
    {
      "cell_type": "code",
      "metadata": {
        "id": "Xm9GNNFwo8Xu"
      },
      "source": [
        "import pandas as pd \n",
        "file_path = r'https://archive.ics.uci.edu/ml/machine-learning-databases/iris/iris.data'\n",
        "attributes = ['sepal-length', 'sepal-width', 'petal-length',\n",
        "              'petal-width', 'class']\n",
        "dataset = pd.read_csv(file_path, names=attributes)"
      ],
      "execution_count": null,
      "outputs": []
    },
    {
      "cell_type": "markdown",
      "metadata": {
        "id": "MwUx98Vcpawy"
      },
      "source": [
        "Setelah itu teman teman bisa menampilkan dataset dengan cara menulis syntax berikut ini\n",
        "```\n",
        "print(dataset)\n",
        "```\n",
        "\n"
      ]
    },
    {
      "cell_type": "code",
      "metadata": {
        "colab": {
          "base_uri": "https://localhost:8080/"
        },
        "id": "kiyyssqNnB3X",
        "outputId": "c4303ebf-afb0-4995-923f-fad43d7cc3b0"
      },
      "source": [
        "print(dataset)"
      ],
      "execution_count": null,
      "outputs": [
        {
          "output_type": "stream",
          "text": [
            "     sepal-length  sepal-width  petal-length  petal-width           class\n",
            "0             5.1          3.5           1.4          0.2     Iris-setosa\n",
            "1             4.9          3.0           1.4          0.2     Iris-setosa\n",
            "2             4.7          3.2           1.3          0.2     Iris-setosa\n",
            "3             4.6          3.1           1.5          0.2     Iris-setosa\n",
            "4             5.0          3.6           1.4          0.2     Iris-setosa\n",
            "..            ...          ...           ...          ...             ...\n",
            "145           6.7          3.0           5.2          2.3  Iris-virginica\n",
            "146           6.3          2.5           5.0          1.9  Iris-virginica\n",
            "147           6.5          3.0           5.2          2.0  Iris-virginica\n",
            "148           6.2          3.4           5.4          2.3  Iris-virginica\n",
            "149           5.9          3.0           5.1          1.8  Iris-virginica\n",
            "\n",
            "[150 rows x 5 columns]\n"
          ],
          "name": "stdout"
        }
      ]
    },
    {
      "cell_type": "markdown",
      "metadata": {
        "id": "cMbgeQzDpyHS"
      },
      "source": [
        "##**3. Matplotlib**\n",
        "\n",
        "Matplotlib merupakan library dari Python yang umum digunakan untuk visualisasi data.\n",
        "Matplotlib memiliki kapabilitas untuk membuat visualisasi data 2 – dimensional. Contoh\n",
        "visualisasi yang dapat dibuat dengan menggunakan matplotlib diantaranya adalah\n",
        "1. Line chart (grafik garis)\n",
        "1. Bar chart (grafik batang)\n",
        "2. Pie chart (grafik lingkaran)\n",
        "3. Box plot chart (grafik box plot)\n",
        "4. Violin chart\n",
        "5. Errorbar chart\n",
        "6. Scatter chart\n",
        "7. Item daftar\n",
        "Jenis-jenis chart lainnya juga dapat dibuat melalui library ini. "
      ]
    },
    {
      "cell_type": "markdown",
      "metadata": {
        "id": "sPx11TSTsbSY"
      },
      "source": [
        "###**a. Instalasi Matplotlib**\n",
        "Instalasi library Matplotlib dapat dilakukan melalui perintah pip maupun dalam anaconda\n",
        "atau miniconda. Perintah yang dapat dilakukan yaitu\n",
        "\n",
        "\n",
        "\n",
        "```\n",
        "pip install matplotlib \n",
        "```\n",
        "\n"
      ]
    },
    {
      "cell_type": "markdown",
      "metadata": {
        "id": "UU7-GMfRs9e0"
      },
      "source": [
        "###**b. Import Matplotlib**\n",
        "Untuk mengimport library matplotlib silahkan ketikan syntax berikut:\n",
        "\n",
        "\n",
        "\n",
        "```\n",
        "import matplotlib.pyplot as plt\n",
        "```\n",
        "\n",
        "silahkan coba sendiri menggunakan sel dibawah ini:\n",
        "\n"
      ]
    },
    {
      "cell_type": "code",
      "metadata": {
        "id": "I4XTfGjDppgA"
      },
      "source": [
        ""
      ],
      "execution_count": null,
      "outputs": []
    },
    {
      "cell_type": "markdown",
      "metadata": {
        "id": "YKFcmoKNuYe3"
      },
      "source": [
        "**Mari kita bahas**\n",
        "\n",
        "Bila teman teman perhatikan pada syntax diatas terdapat **module pyplot** yang membuat Matplotlib berfungsi atau bekerja seperti MATLAB. Setiap fungsi Pyplot\n",
        "membuat beberapa perubahan pada gambar, seperti: membuat gambar, membuat plotting area pada\n",
        "gambar, memberikan label pada plot, dll. \n"
      ]
    },
    {
      "cell_type": "markdown",
      "metadata": {
        "id": "QKBRNmpjt4g2"
      },
      "source": [
        "###**Praktik Matplotlib**\n",
        "\n",
        "Pada praktik kali ini kita akan mencoba membuat visualisasi sederhana menggunakan matplotlib, silahkan teman teman ketikan syntax berikut:\n",
        "\n",
        "```\n",
        "import matplotlib.pyplot as plt\n",
        "plt.plot([2,4,6,8],[5,3,4,9])\n",
        "plt.xlabel(‘sumbu x’)\n",
        "plt.ylabel(‘sumbu y’)\n",
        "plt.show \n",
        "```\n"
      ]
    },
    {
      "cell_type": "code",
      "metadata": {
        "id": "L_GfD-0QuJUb"
      },
      "source": [
        ""
      ],
      "execution_count": null,
      "outputs": []
    },
    {
      "cell_type": "markdown",
      "metadata": {
        "id": "H8PBVsJfZYeH"
      },
      "source": [
        "**Mari kita bahas**\n",
        "\n",
        "1. **import matplotlib.pyplot as plt**  adalah syntax untuk memanggil libary matplotlib.pyplot dengan prefix plt\n",
        "2. **plt.plot([2,4,6,8],[5,3,4,9])** adalah syntax membuat sebuah array 2 dimensi\n",
        "3. **plt.xlabel(‘sumbu x’)** adalah syntax untuk memberikan label pada sumbu X\n",
        "4. **plt.ylabel(‘sumbu y’)** adalah syntax untuk memberikan label pada sumbu Y\n",
        "5. **plt.show** adalah syntax untuk menampilkan hasil visualisasi"
      ]
    },
    {
      "cell_type": "markdown",
      "metadata": {
        "id": "6tyD7fWnbe9w"
      },
      "source": [
        "#**B. Data Wrangling**\n",
        "\n",
        "![teks alternatif](https://automateintellect.com/wp-content/uploads/2020/06/data-wrangling-2.jpg)\n",
        "\n",
        "**Data wrangling** adalah **proses mengubah** atau transformasi **data yang mentah kedalam\n",
        "format yang lebih rapi** sehinga lebih mudah untuk dianalisa. Salah satu library pada Python yang sering digunakan dalam proses data wrangling adalah **Pandas**. \n",
        "\n",
        "**Library Pandas** memiliki kemampuan dalam membaca berbagai macam tipe data. Selain itu juga dapat mengubah data dari file kedalam bentuk dataframe yang nantinya dapat diakses dan diolah. Jadi, perlu teman-teman ingat bahwa sebelum melakukan analisis data kita lebih dulu perlu melakukan data wrangling. "
      ]
    },
    {
      "cell_type": "markdown",
      "metadata": {
        "id": "kZd2wANmHs77"
      },
      "source": [
        "###**Praktik Data Wrangling**\n",
        "\n",
        "Pada praktik kali ini kita akan menggunakan dataset **bunga iris**\n",
        "![teks alternatif](https://miro.medium.com/max/1000/1*Hh53mOF4Xy4eORjLilKOwA.png)\n",
        "\n",
        "dataset ini sering digunakan untuk mempelajari pembuatan model machine learning bagi pemula teman teman bisa mengakses dataset ini link berikut : https://archive.ics.uci.edu/ml/datasets/iris\n",
        "\n",
        "Sebelum kita lanjut ada baiknya teman teman mengenal datet iris ini seperti tujuan dataset ini, atribut, jumlah data, tipe data dll. \n",
        "\n",
        "Dataset Iris ini dibuat oleh R. A. Fisher dan di donorkan ke repository UCI oleh Michael\n",
        "Marshall (MARSHALL%PLU '@' io.arc.nasa.gov). Data set ini terdiri dari 4 features (kolom\n",
        "karakteristik bunga iris) dan 1 class (jenis/kelas bunga iris). Ke empat features itu dicatat dalam\n",
        "ukuran cm yang masing – masing kolom adalah : 1) sepal – length , 2) sepal – width, 3) petal – \n",
        "80\n",
        "length, dan 4) petal – width. Untuk kelas terdiri dari : 1) iris versicolor, 2) iris setosa, dan 3) iris\n",
        "virginica"
      ]
    },
    {
      "cell_type": "markdown",
      "metadata": {
        "id": "JQAF0_S9bqtj"
      },
      "source": [
        "**Pertama tama mari kita inputkan dataset iris ke colab**\n",
        "\n",
        "silahkan teman teman ketikan syntax berikut:\n",
        "\n",
        "\n",
        "```\n",
        "import matplotlib.pyplot as plt\n",
        "import numpy as np\n",
        "import pandas as pd \n",
        "\n",
        "file_path = r'https://archive.ics.uci.edu/ml/machine-learning-databases/iris/iris.data'\n",
        "attributes = ['sepal-length', 'sepal-width', 'petal-length',\n",
        "              'petal-width', 'class']\n",
        "dataset = pd.read_csv(file_path, names=attributes)\n",
        "```\n",
        "\n"
      ]
    },
    {
      "cell_type": "code",
      "metadata": {
        "id": "kkFZxvHCZa7Z"
      },
      "source": [
        "import matplotlib.pyplot as plt\n",
        "import numpy as np\n",
        "import pandas as pd \n",
        "\n",
        "file_path = r'https://archive.ics.uci.edu/ml/machine-learning-databases/iris/iris.data'\n",
        "attributes = ['sepal-length', 'sepal-width', 'petal-length',\n",
        "              'petal-width', 'class']\n",
        "dataset = pd.read_csv(file_path, names=attributes)"
      ],
      "execution_count": null,
      "outputs": []
    },
    {
      "cell_type": "markdown",
      "metadata": {
        "id": "mCOIbZQ3cjV0"
      },
      "source": [
        "**Kedua kita akan mencoba beberapa eksplorasi dasar**"
      ]
    },
    {
      "cell_type": "markdown",
      "metadata": {
        "id": "4sEQdeaUdUy9"
      },
      "source": [
        "**1. head()**\n",
        "\n",
        "Fungsi ini digunakan untuk menampilkan data teratas dari dataframe / dataset, silahkan ketikan syntax berikut:\n",
        "\n",
        "\n",
        "\n",
        "```\n",
        "# print(dataset.head(10))\n",
        "```\n",
        "\n",
        "\n"
      ]
    },
    {
      "cell_type": "code",
      "metadata": {
        "id": "CjqbY1z9fhCs"
      },
      "source": [
        ""
      ],
      "execution_count": null,
      "outputs": []
    },
    {
      "cell_type": "markdown",
      "metadata": {
        "id": "htt1WRAffiNv"
      },
      "source": [
        "**Mari kita bahas**\n",
        "\n",
        "Pada syntax **dataset.head(10)** kita menggunakan fungsi **head()** untuk mencetak 10 data teratas, bila parameter pada fungsi tersebut tidak kita isi maka secara default **head()** akan menampilkan 5 data teratas"
      ]
    },
    {
      "cell_type": "markdown",
      "metadata": {
        "id": "gZtROkFDeWm9"
      },
      "source": [
        "**2. tail()**\n",
        "\n",
        "Fungsi ini digunakan untuk menampilkan data terbawah dari dataframe/ dataset. silahkan ketikan syntax berikut:\n",
        "\n",
        "```\n",
        "print(dataset.tail(10))\n",
        "```\n",
        "\n"
      ]
    },
    {
      "cell_type": "code",
      "metadata": {
        "id": "u0hc_FwreVI7"
      },
      "source": [
        ""
      ],
      "execution_count": null,
      "outputs": []
    },
    {
      "cell_type": "markdown",
      "metadata": {
        "id": "YKcX3pf9fU_o"
      },
      "source": [
        "**Mari kita bahas**\n",
        "\n",
        "Pada syntax **dataset.tail(10)** kita menggunakan fungsi **tail()** untuk mencetak 10 data terbawah, bila parameter pada fungsi tersebut tidak kita isi maka secara default **tail()** akan menampilkan 5 data terbawah\n",
        "\n"
      ]
    },
    {
      "cell_type": "markdown",
      "metadata": {
        "id": "sTomsezGgstB"
      },
      "source": [
        "**3. keys()**\n",
        "\n",
        "Fungsi ini digunakan untuk menampilkan kolom pada dataframe / dataset. silahkan ketikan syntax berikut\n",
        "\n",
        "\n",
        "\n",
        "```\n",
        "print(dataset.keys()) \n",
        "```\n",
        "\n"
      ]
    },
    {
      "cell_type": "code",
      "metadata": {
        "id": "GwsZMeZhfXYt"
      },
      "source": [
        ""
      ],
      "execution_count": null,
      "outputs": []
    },
    {
      "cell_type": "markdown",
      "metadata": {
        "id": "Z2JSU_4mhICl"
      },
      "source": [
        "**Mari kita bahas**\n",
        "\n",
        "dari hasil output tersebut dapat kita lihat bahwa dataset iris memiliki 5 kolom"
      ]
    },
    {
      "cell_type": "markdown",
      "metadata": {
        "id": "MXzSCt7jig78"
      },
      "source": [
        "**4. shape**\n",
        "\n",
        "fungsi ini digunakan untuk mengetahui jumlah kolom dan baris pada dataset. silahkan ketikan syntax dibawah ini:\n",
        "\n",
        "\n",
        "\n",
        "```\n",
        "dataset.shape \n",
        "```\n",
        "\n"
      ]
    },
    {
      "cell_type": "code",
      "metadata": {
        "id": "N2EJK-FGievM"
      },
      "source": [
        ""
      ],
      "execution_count": null,
      "outputs": []
    },
    {
      "cell_type": "markdown",
      "metadata": {
        "id": "TAUAtoWIjOca"
      },
      "source": [
        "**Mari kita bahas**\n",
        "\n",
        "dari hasil output dapat kita ketahui bahwa dataset iris memiliki 150 baris dan 5 kolom"
      ]
    },
    {
      "cell_type": "markdown",
      "metadata": {
        "id": "-w4EWr8njYoM"
      },
      "source": [
        "**5. info()**\n",
        "\n",
        "Fungsi ini untuk menampilkan gambaran data mulai dari jumlah data per kolom, tipe data\n",
        "per kolom, dan jumlah keseluruhan data. Fungsi ini merupakan gabungan dari pada fungsi yang\n",
        "telah dijelaskan sebelumnya. silahkan ketikan syntax berikut ini:\n",
        "\n",
        "```\n",
        " dataset.info()\n",
        "```\n",
        "\n"
      ]
    },
    {
      "cell_type": "code",
      "metadata": {
        "id": "Fl-ppQ5ejX2q"
      },
      "source": [
        ""
      ],
      "execution_count": null,
      "outputs": []
    },
    {
      "cell_type": "markdown",
      "metadata": {
        "id": "DvT2CIAIl9Vs"
      },
      "source": [
        "**Mari kita bahas**\n",
        "\n",
        "dari hasil output kita bisa mengetahui bahawa dataset iris berjumlah 150 data dengan 5 buah colom dimana 4 sebagai atribut dan 1 kolom sebagai class"
      ]
    },
    {
      "cell_type": "markdown",
      "metadata": {
        "id": "vWqdD5ammdLT"
      },
      "source": [
        "**6. describe()**\n",
        "Fungsi ini digunakan untuk menampilkan ringkasan satistik berupa mean, standar defiasi, min, max dan quartile, fungsi ini juga akan mengabaikan semua data yang berifat kategorik / non numerik. silahkan ketikan syntax berikut ini:\n",
        "\n",
        "```\n",
        "print(dataset.describe()) \n",
        "\n",
        "```\n",
        "\n",
        "bila teman teman ingin menampilkan seluruh data beserta data kategorik bisa kitikan syntax berikut:\n",
        "\n",
        "```\n",
        "print(dataset.describe(include=’all’)) \n",
        "```\n",
        "\n",
        "\n",
        "\n",
        "\n"
      ]
    },
    {
      "cell_type": "markdown",
      "metadata": {
        "id": "UWsChMKnoQe5"
      },
      "source": [
        "### **Handling Missing Value**\n",
        "\n",
        "Pada kasus di lapangan terkadang data yang kita dapatkan tidak selalu lengkap ada saja bagian dari dataset yang kosong untuk itu penting bagi kita untuk mengetahui cara mengatasi permasalahan tersebut. pada bagian ini kita akan coba menangani dataset yang tidak lengkap. Beberapa cara untuk mengatasi nilai kosong pada dataset yaitu: \n",
        "\n",
        "1. **Handling missing value pada data numerik** maka dapat menyelesaikannya dengan\n",
        "mengambil nilai mean/median/quantile dari data tersebut, \n",
        "\n",
        "2. **Handling missing value pada data kategorik** bisa diisi dengan mengambil modus pada\n",
        "data. \n",
        "\n",
        "3. **Menghilangkan atau menghapus missing value** (Drop Missing Value) tetapi ada\n",
        "ketentuannya, harus mengetahui terlebih dulu berapa total keseluruhan data point kita, jika\n",
        "kurang dari 5% (<5%) maka dapat kita hapus tapi jika melebihi kita bisa menerapkan\n",
        "handling missing values dengan nilai Mean atau Modus. \n",
        "\n"
      ]
    },
    {
      "cell_type": "markdown",
      "metadata": {
        "id": "JJCflxCLsz2f"
      },
      "source": [
        "Kita bisa memeriksa apakah dataset kita terdapat Missing Value atau tidak dengan snyax berikut:\n",
        "\n",
        "```\n",
        "# melihat missing value pada data\n",
        "print(dataset.isnull())\n",
        "```\n",
        "\n",
        "setelah itu teman teman bisa melihat total dari Missing Value pada dataset mengunakan syntax berikut:\n",
        "\n",
        "```\n",
        "# melihat total missing value pada data\n",
        "print(dataset.isnull().sum())\n",
        "```\n",
        "\n",
        "\n",
        "\n"
      ]
    },
    {
      "cell_type": "code",
      "metadata": {
        "id": "GYdVEAv3mNOn"
      },
      "source": [
        ""
      ],
      "execution_count": null,
      "outputs": []
    },
    {
      "cell_type": "code",
      "metadata": {
        "id": "8BYZ6Irkt_K2"
      },
      "source": [
        ""
      ],
      "execution_count": null,
      "outputs": []
    },
    {
      "cell_type": "markdown",
      "metadata": {
        "id": "1cBgiUNSt_wc"
      },
      "source": [
        "**Mari kita bahas**\n",
        "\n",
        "dapat kita lihat bahwa dataset iris tidak memiliki nilai kosong pada recordnya sehingga kita tidak memerlukan penanganan nilai kosong (handling missing value) pada dataset ini"
      ]
    },
    {
      "cell_type": "markdown",
      "metadata": {
        "id": "FoaqgFJrbfoa"
      },
      "source": [
        "**Latihan Handling Missing Value**\n",
        "\n",
        "Teman teman sudah mempelajari bagaimana cara mengecek apakah dalam dataset terdapat missing value atau tidak sekarang kita akan mencoba untuk menangani langsung missing value pada dataset **kapalPerang**\n",
        "\n",
        "**Note**: ini hanya sebagai contoh untuk kasus dunia nyata akan lebih rumit dan kompleks"
      ]
    },
    {
      "cell_type": "markdown",
      "metadata": {
        "id": "m49Jx_J1cjoK"
      },
      "source": [
        "**1. Upload dataset**\n",
        "\n",
        "Pastikan teman teman sudah mendownload datasetnya terlebih dahulu \n",
        "\n",
        "link download : https://drive.google.com/file/d/1n2C5YZFR0SvwrwAxrGZ6wSJwxTz_ze32/view?usp=sharing\n",
        "\n",
        "berikutnya silahkan ketikan syntax berikut:\n",
        "\n",
        "\n",
        "\n",
        "```\n",
        "import pandas as pd\n",
        "import io\n",
        "from google.colab import files\n",
        "file_upload = files.upload()\n",
        "kapalPerang = pd.read_csv(io.BytesIO(file_upload['namafile.csv']))\n",
        "print(kapalPerang)\n",
        "```\n",
        "\n"
      ]
    },
    {
      "cell_type": "code",
      "metadata": {
        "colab": {
          "resources": {
            "http://localhost:8080/nbextensions/google.colab/files.js": {
              "data": "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",
              "ok": true,
              "headers": [
                [
                  "content-type",
                  "application/javascript"
                ]
              ],
              "status": 200,
              "status_text": ""
            }
          },
          "base_uri": "https://localhost:8080/",
          "height": 242
        },
        "id": "won29fFUbfDM",
        "outputId": "a45cd50c-40b6-4003-d7c3-9d66ac0c212c"
      },
      "source": [
        "import pandas as pd\n",
        "import io\n",
        "from google.colab import files\n",
        "file_upload = files.upload()\n",
        "kapalPerang = pd.read_csv(io.BytesIO(file_upload['kapalPerang.csv']))\n",
        "print(kapalPerang)"
      ],
      "execution_count": null,
      "outputs": [
        {
          "output_type": "display_data",
          "data": {
            "text/html": [
              "\n",
              "     <input type=\"file\" id=\"files-074f0f20-3543-4b81-afbc-e1a1e2c0ff34\" name=\"files[]\" multiple disabled\n",
              "        style=\"border:none\" />\n",
              "     <output id=\"result-074f0f20-3543-4b81-afbc-e1a1e2c0ff34\">\n",
              "      Upload widget is only available when the cell has been executed in the\n",
              "      current browser session. Please rerun this cell to enable.\n",
              "      </output>\n",
              "      <script src=\"/nbextensions/google.colab/files.js\"></script> "
            ],
            "text/plain": [
              "<IPython.core.display.HTML object>"
            ]
          },
          "metadata": {
            "tags": []
          }
        },
        {
          "output_type": "stream",
          "text": [
            "Saving kapalPerang.csv to kapalPerang (7).csv\n",
            "   Ukuran Meriam  Ketebalan Armor  Kecepatan      Kategori\n",
            "0            120             50.0         37     Destroyer\n",
            "1            180             95.0         34  LightCruiser\n",
            "2            285            180.0         33  HeavyCruiser\n",
            "3            380              NaN         30    Battleship\n",
            "4            460            350.0         28    Battleship\n",
            "5            140             60.0         34  LightCruiser\n",
            "6            380            350.0         32    Battleship\n",
            "7            405            330.0         29    Battleship\n",
            "8            410            300.0         31    Battleship\n"
          ],
          "name": "stdout"
        }
      ]
    },
    {
      "cell_type": "markdown",
      "metadata": {
        "id": "k3XSX8g5dX5j"
      },
      "source": [
        "**2. Cek Missing Value**\n",
        "\n",
        "silahkan ketikan syntax berikut ini:\n",
        "\n",
        "```\n",
        "# melihat missing value pada data\n",
        "print(dataset.isnull())\n",
        "```\n",
        "\n",
        "dan\n",
        "\n",
        "\n",
        "```\n",
        "# melihat total missing value pada data\n",
        "print(dataset.isnull().sum())\n",
        "```\n",
        "\n",
        "\n",
        "\n"
      ]
    },
    {
      "cell_type": "code",
      "metadata": {
        "colab": {
          "base_uri": "https://localhost:8080/"
        },
        "id": "o39K3OeqbYDJ",
        "outputId": "d2ddd89e-b787-4a6b-9b41-804f2636d2e1"
      },
      "source": [
        "print(kapalPerang.isnull())"
      ],
      "execution_count": null,
      "outputs": [
        {
          "output_type": "stream",
          "text": [
            "   Ukuran Meriam  Ketebalan Armor  Kecepatan  Kategori\n",
            "0          False            False      False     False\n",
            "1          False            False      False     False\n",
            "2          False            False      False     False\n",
            "3          False             True      False     False\n",
            "4          False            False      False     False\n",
            "5          False            False      False     False\n",
            "6          False            False      False     False\n",
            "7          False            False      False     False\n",
            "8          False            False      False     False\n"
          ],
          "name": "stdout"
        }
      ]
    },
    {
      "cell_type": "code",
      "metadata": {
        "colab": {
          "base_uri": "https://localhost:8080/"
        },
        "id": "jhVfrUMnd1mE",
        "outputId": "c62d09d8-711b-4861-8c8e-b28801649e86"
      },
      "source": [
        "print(kapalPerang.isnull().sum())"
      ],
      "execution_count": null,
      "outputs": [
        {
          "output_type": "stream",
          "text": [
            "Ukuran Meriam      0\n",
            "Ketebalan Armor    1\n",
            "Kecepatan          0\n",
            "Kategori           0\n",
            "dtype: int64\n"
          ],
          "name": "stdout"
        }
      ]
    },
    {
      "cell_type": "markdown",
      "metadata": {
        "id": "oH5SQf8weH_w"
      },
      "source": [
        "Dapat kita lihat dari hasil output terdapat missing value pada dataset kapalPerang di bagian kolom **ketebalan armor**"
      ]
    },
    {
      "cell_type": "markdown",
      "metadata": {
        "id": "cjxyV1BMedZa"
      },
      "source": [
        "**3. Handling Missing Value untuk data numerik pada kolom Ketebalan Armor**\n",
        "\n",
        "untuk kali ini kita akan mencoba handling missing value dengan mean, silahkan ketikan syntax dibawah ini:\n",
        "\n",
        "```\n",
        "# mencari nilai mean disetiap kolom\n",
        "print(variable_dataset.mean())\n",
        "```\n",
        "\n"
      ]
    },
    {
      "cell_type": "code",
      "metadata": {
        "colab": {
          "base_uri": "https://localhost:8080/"
        },
        "id": "nEPf9VKdeAoo",
        "outputId": "7c394012-026d-4271-ea73-d908b93c87e2"
      },
      "source": [
        "print(kapalPerang.mean())"
      ],
      "execution_count": null,
      "outputs": [
        {
          "output_type": "stream",
          "text": [
            "Ukuran Meriam      306.666667\n",
            "Ketebalan Armor    214.375000\n",
            "Kecepatan           32.000000\n",
            "dtype: float64\n"
          ],
          "name": "stdout"
        }
      ]
    },
    {
      "cell_type": "markdown",
      "metadata": {
        "id": "WsBvhD2IhkG3"
      },
      "source": [
        "Dari syntax diatas kita dapat nilai rata rata ketebalan armor adalah 214.375 nilai ini lah yang akan dijadikan **penambal nilai yang kososng** pada dataset **kapalPerang** di kolom **Ketebalan Armor**"
      ]
    },
    {
      "cell_type": "markdown",
      "metadata": {
        "id": "2ZU1BaHoh-is"
      },
      "source": [
        "Beikutnya kita akan coba untuk menambal nilai yang kosong, silahkan ketikan syntax berikut:\n",
        "\n",
        "```\n",
        "dummy = kapalPerang['Ketebalan Armor'].fillna(kapalPerang['Ketebalan Armor'].mean())\n",
        "```\n",
        "\n"
      ]
    },
    {
      "cell_type": "code",
      "metadata": {
        "id": "pZfpBvVXiMDA"
      },
      "source": [
        "dummy = kapalPerang['Ketebalan Armor'].fillna(kapalPerang['Ketebalan Armor'].mean())"
      ],
      "execution_count": null,
      "outputs": []
    },
    {
      "cell_type": "markdown",
      "metadata": {
        "id": "X5ikW8aviMxR"
      },
      "source": [
        "**Mari kita bahas**\n",
        "\n",
        "1. **dummy** adalah variable yang kita gunakan untuk menyimpan perubahan dataset yang nilai kosongnya sudah kita isi\n",
        "2. **kapalPerang['Ketebalan Armor']** adalah syntax yang kita gunakan untuk mengunci dataset serta kolom yang akan kita ubah nilai yang kosongnya\n",
        "3. **fillna()** adalah fungsi yang berguna untuk mengisi nilai kosong / na(not avaible) pada dataset\n",
        "4. **kapalPerang['Ketebalan Armor'].mean()** adalah syntax untuk mencari nilai mean pada dataset kapalPerang kolom Ketebalan Armor"
      ]
    },
    {
      "cell_type": "markdown",
      "metadata": {
        "id": "6Q1RqLrzlkRs"
      },
      "source": [
        "Selanjutnya kita akan memasukan variable dummy kedalam dataset kapalPerang pada kolom Ketebalan Armor, silahkan ketikan syntax berikut ini:\n",
        "\n",
        "\n",
        "\n",
        "```\n",
        "kapalPerang['Ketebalan Armor'] = dummy\n",
        "```\n",
        "\n",
        "bila sudah maka kita akan menampilkan dataset yang sudah kita isi missing valuenya dengan mean, silahkan ketikan syntax berikut ini:\n",
        "\n",
        "\n",
        "\n",
        "```\n",
        "print(kapalPerang)\n",
        "```\n",
        "\n",
        "\n"
      ]
    },
    {
      "cell_type": "code",
      "metadata": {
        "id": "oDZL4kg8uY_j"
      },
      "source": [
        "kapalPerang['Ketebalan Armor'] = dummy"
      ],
      "execution_count": null,
      "outputs": []
    },
    {
      "cell_type": "code",
      "metadata": {
        "colab": {
          "base_uri": "https://localhost:8080/"
        },
        "id": "LDTxoe-MuZRC",
        "outputId": "8e5eb753-4ae7-4127-b9c1-3d68ff432069"
      },
      "source": [
        "print(kapalPerang)"
      ],
      "execution_count": null,
      "outputs": [
        {
          "output_type": "stream",
          "text": [
            "   Ukuran Meriam  Ketebalan Armor  Kecepatan      Kategori\n",
            "0            120           50.000         37     Destroyer\n",
            "1            180           95.000         34  LightCruiser\n",
            "2            285          180.000         33  HeavyCruiser\n",
            "3            380          214.375         30    Battleship\n",
            "4            460          350.000         28    Battleship\n",
            "5            140           60.000         34  LightCruiser\n",
            "6            380          350.000         32    Battleship\n",
            "7            405          330.000         29    Battleship\n",
            "8            410          300.000         31    Battleship\n"
          ],
          "name": "stdout"
        }
      ]
    },
    {
      "cell_type": "markdown",
      "metadata": {
        "id": "7m3kIQUrw3vu"
      },
      "source": [
        "###**Handling Outliers**\n",
        "\n",
        "Data outlier adalah data pada dataset yang memiliki nilai ekstrim atau berbeda dengan nilai yang lainnya\n",
        "\n",
        "Contohnya dalam data penilaian praktikum, terdapat suatu kelas yang jumlahnya 20\n",
        "mahasiswa, kemudian 19 mahasiswa nilainya diantara 70-80 lalu 1 mahasiswa dalam kelas itu\n",
        "mendapat nilai yang melenceng dari ke-19 mahasiswa lainnya, anggapkan nilainya 30. Mahasiswa\n",
        "yang mendapatkan nilai 30 memiliki nilai ekstrem sehingga dapat disebut outliers. "
      ]
    },
    {
      "cell_type": "markdown",
      "metadata": {
        "id": "_SGeQyg2xwvk"
      },
      "source": [
        "**Praktik Handling Data Outliers**\n",
        "\n",
        "Pada Praktik Handling outlier kali ini kita akan menggunakan dataset iris, sebelumnya mari kita import terlebih dahulu dataset irisnya, silahkan teman teman ketikan syntax berikut ini:\n",
        "\n",
        "\n",
        "\n",
        "```\n",
        "import matplotlib.pyplot as plt\n",
        "import numpy as np\n",
        "import pandas as pd \n",
        "\n",
        "file_path = r'https://archive.ics.uci.edu/ml/machine-learning-databases/iris/iris.data'\n",
        "attributes = ['sepal-length', 'sepal-width', 'petal-length',\n",
        "              'petal-width', 'class']\n",
        "dataset = pd.read_csv(file_path, names=attributes)\n",
        "```\n",
        "\n",
        "pada praktik kali ini kita akan membahas **Univariate Analysis** dan **Multivariate Analysis**\n"
      ]
    },
    {
      "cell_type": "code",
      "metadata": {
        "id": "wOHc6bqAuzww"
      },
      "source": [
        "import matplotlib.pyplot as plt\n",
        "import numpy as np\n",
        "import pandas as pd \n",
        " \n",
        "file_path = r'https://archive.ics.uci.edu/ml/machine-learning-databases/iris/iris.data'\n",
        "attributes = ['sepal-length', 'sepal-width', 'petal-length',\n",
        "              'petal-width', 'class']\n",
        "dataset = pd.read_csv(file_path, names=attributes)"
      ],
      "execution_count": null,
      "outputs": []
    },
    {
      "cell_type": "markdown",
      "metadata": {
        "id": "8B4S_6EtySns"
      },
      "source": [
        "**1. Univariate Analysis**\n",
        "\n",
        "Univariate Analysis merupakan analisis sederhana karena yang akan dianalisis hanya\n",
        "memiliki satu variable atau variable tunggal. Sehingga variable ini tidak berurusan dengan\n",
        "hubungan atau sebab. Tujuan dari univariate analysis ini yaitu mendeskripsikan data dan\n",
        "menemukan pola yang ada didalamnya. "
      ]
    },
    {
      "cell_type": "markdown",
      "metadata": {
        "id": "ssP_-Fx8zNRY"
      },
      "source": [
        "Kita akan mencoba mendeteksi outlier pada dataset iris menggunakan boxplot dan histogram, sialhkan ketikan syntax berikut :\n",
        "\n",
        "\n",
        "\n",
        "```\n",
        "# boxplot\n",
        "plt.figure(figsize=(10,7))\n",
        "dataset.boxplot()\n",
        "```\n",
        "\n",
        "\n",
        "\n",
        "```\n",
        "# histogram\n",
        "plt.figure(figsize = (10, 7))\n",
        "x = dataset[\"sepal-length\"]\n",
        "plt.hist(x, bins = 20, color = \"blue\")\n",
        "plt.title(\"Sepal Length Iris\")\n",
        "plt.xlabel(\"Sepal-length\")\n",
        "plt.ylabel(\"Count\")\n",
        "```\n",
        "\n",
        "\n",
        "\n"
      ]
    },
    {
      "cell_type": "code",
      "metadata": {
        "colab": {
          "base_uri": "https://localhost:8080/",
          "height": 445
        },
        "id": "_73LWVYfCEv9",
        "outputId": "232b60fb-45ae-4271-ef6e-c3669fc623f5"
      },
      "source": [
        "# boxplot\n",
        "plt.figure(figsize=(10,7))\n",
        "dataset.boxplot()"
      ],
      "execution_count": null,
      "outputs": [
        {
          "output_type": "execute_result",
          "data": {
            "text/plain": [
              "<matplotlib.axes._subplots.AxesSubplot at 0x7f8d58dc9410>"
            ]
          },
          "metadata": {
            "tags": []
          },
          "execution_count": 85
        },
        {
          "output_type": "display_data",
          "data": {
            "image/png": "[encoded data removed]",
            "text/plain": [
              "<Figure size 720x504 with 1 Axes>"
            ]
          },
          "metadata": {
            "tags": [],
            "needs_background": "light"
          }
        }
      ]
    },
    {
      "cell_type": "markdown",
      "metadata": {
        "id": "bSTIGtNl5sDJ"
      },
      "source": [
        "**Mari kita bahas**\n",
        "\n",
        "1. **plt.figure(figsize=(10,7))** adalah syntax untuk membuat bingkai dengan ukuran tertentu\n",
        "2. **dataset.boxplot()** ini adalah fungsi untuk membuat boxplot dari dataset\n",
        "\n",
        "\n",
        "berikutnya bila kita perhatikan pada sepal width **terdapat titik titik**. titik ini lah yang disebut **outlier**\n",
        "\n",
        "![teks alternatif](https://miro.medium.com/max/8000/1*0MPDTLn8KoLApoFvI0P2vQ.png)\n",
        "\n",
        "bisa kita lihat dari gambar bahwa data outlier adalah nilai yang berada diluar nilai minimum dan maximum"
      ]
    },
    {
      "cell_type": "code",
      "metadata": {
        "colab": {
          "base_uri": "https://localhost:8080/",
          "height": 475
        },
        "id": "rhYTzKud2CFO",
        "outputId": "e1d2e4e0-cf78-41a4-e86c-848f694f9fa6"
      },
      "source": [
        "plt.figure(figsize = (10, 7))\n",
        "x = dataset[\"sepal-width\"]\n",
        "plt.hist(x, bins = 20, color = \"blue\")\n",
        "plt.title(\"Sepal Length Iris\")\n",
        "plt.xlabel(\"Sepal-length\")\n",
        "plt.ylabel(\"Count\")"
      ],
      "execution_count": null,
      "outputs": [
        {
          "output_type": "execute_result",
          "data": {
            "text/plain": [
              "Text(0, 0.5, 'Count')"
            ]
          },
          "metadata": {
            "tags": []
          },
          "execution_count": 84
        },
        {
          "output_type": "display_data",
          "data": {
            "image/png": "[encoded data removed]",
            "text/plain": [
              "<Figure size 720x504 with 1 Axes>"
            ]
          },
          "metadata": {
            "tags": [],
            "needs_background": "light"
          }
        }
      ]
    },
    {
      "cell_type": "markdown",
      "metadata": {
        "id": "IaYOiDW5BGX9"
      },
      "source": [
        "**Mari kita bahas**\n",
        "\n",
        "1. **plt.figure(figsize = (10, 7))** adalah syntax untuk membuat bingkai dengan ukuran tertentu \n",
        "\n",
        "2. **x = dataset[\"sepal-width\"]** adalah syntax untuk mendeklarasikan dataset kedalam sumbu X / variable x\n",
        "\n",
        "3. **plt.hist(x, bins = 20, color = \"blue\")** adalah syntax untuk membuat histogram dimana **x** = inputan data, **bins** = ukuran histogram antar data, **color** = warna histogram\n",
        "\n",
        "4. **plt.title(\"Sepal Length Iris\")** adalah syntax untuk memberikan judul pada histogram yang kita buat\n",
        "\n",
        "5. **plt.xlabel(\"Sepal-length\")** adalah syntax untuk memberi nama pada sumbu x\n",
        "\n",
        "6. **plt.ylabel(\"Count\")** adalah syntax untuk memberi nama pada sumbu y\n",
        "\n",
        "\n",
        "Bila teman teman perhatikan pada data kisaran 2.0 - 2.1 serta 3,9 - 4,4 (kira kira) histogram melandai artinya ada beberapa data yang tebal sepal widthnya diatas 4.0 dan mendekati 2.0 yang berada di luar nilai max dan min pada box plot"
      ]
    },
    {
      "cell_type": "markdown",
      "metadata": {
        "id": "Dn5jVW3AFJ-s"
      },
      "source": [
        "**Lalu apakah data outlier ini harus kita buang?**\n",
        "\n",
        "jawabannya:\n",
        "bisa ya.. bisa tidak.. tergantung peforma model machine learning yang akan kita buat nanti apakah memberikan pengaruh besar atau tidak dengan di tiadakannya outlier ini\n",
        "\n",
        "**tapi** biasanya untuk outlier ada kriteria tertentu apakah perlu di hapus atau tidak, kita ambil contoh kasus **dataset iris**\n",
        "\n",
        "Pada dataset ini data **outliernya masih dalam range nilai yang sama**, maksudnya seperti ini nilai outliernya itu berada di 4,4 (misal) sementara data lain jg masih dalam bentuk satuan 1,2,3,4 jd tidak perlu kita hapus datanya\n"
      ]
    },
    {
      "cell_type": "markdown",
      "metadata": {
        "id": "BIiNoXVgJbje"
      },
      "source": [
        "**lalu data outlier yang seperti apa yang harus kita hapus?**\n",
        "\n",
        "jawabannya:\n",
        "**data outlier yang satuannya berbeda jauh** misal kita punya **dataset umur manusia** dalam dataset tersebut terdapat data outlier bernilai **150** sedangkan pada kolom itu range nilainya hanya berkisar satuan sampai puluhan (11, 12, 13, 45, 90), **g mungkin dong umur manusia moderen ada yang sampai 150 tahun??** maka dari itu data outlier tersebut **harus kita hapus**"
      ]
    },
    {
      "cell_type": "markdown",
      "metadata": {
        "id": "spTU3ZVJJw8g"
      },
      "source": [
        "**2. Multivariate Analysis**\n",
        "\n",
        "Multivariate Analysis merupakan teknik analisis yang mana data bisa muncul dengan lebih\n",
        "dari satu variable. Tujuan menggunakan Multivariate Analysis ini untuk memodelkan data lebih\n",
        "realistis, karena variable dalam pengambilan keputusannya melibatkan lebih dari satu variable. \n",
        "\n",
        "\n",
        "Pada bagian ini kita akan menggunakan scatter plot silahkan ketikan syntax berikut ini:\n",
        "\n",
        "\n",
        "```\n",
        "import seaborn as sns\n",
        "sns.FacetGrid(dataset, hue =\"class\",\n",
        " height = 6).map(plt.scatter,\n",
        " 'sepal-length',\n",
        " 'sepal-width').add_legend()\n",
        "```\n",
        "\n"
      ]
    },
    {
      "cell_type": "code",
      "metadata": {
        "colab": {
          "base_uri": "https://localhost:8080/",
          "height": 458
        },
        "id": "zmNMZPhBFIph",
        "outputId": "b8067ece-76b0-43d3-ed78-26e1fda1e3cd"
      },
      "source": [
        "import seaborn as sns\n",
        "sns.FacetGrid(dataset, hue =\"class\",\n",
        " height = 6).map(plt.scatter,\n",
        " 'sepal-length',\n",
        " 'sepal-width').add_legend()"
      ],
      "execution_count": null,
      "outputs": [
        {
          "output_type": "execute_result",
          "data": {
            "text/plain": [
              "<seaborn.axisgrid.FacetGrid at 0x7f8d4b2bb050>"
            ]
          },
          "metadata": {
            "tags": []
          },
          "execution_count": 86
        },
        {
          "output_type": "display_data",
          "data": {
            "image/png": "[encoded data removed]",
            "text/plain": [
              "<Figure size 535.25x432 with 1 Axes>"
            ]
          },
          "metadata": {
            "tags": [],
            "needs_background": "light"
          }
        }
      ]
    },
    {
      "cell_type": "markdown",
      "metadata": {
        "id": "BxRENFEMM2RI"
      },
      "source": [
        "**Mari kita bahas**\n",
        "\n",
        "1. **import seaborn as sns** adalah syntax untuk memanggil library seaborn\n",
        "\n",
        "2. sns.FacetGrid()\n",
        "3. height = 6).map(plt.scatter,\n",
        "4. 'sepal-length',\n",
        "5. 'sepal-width').add_legend()"
      ]
    },
    {
      "cell_type": "code",
      "metadata": {
        "id": "1bsIdISpFGxf"
      },
      "source": [
        ""
      ],
      "execution_count": null,
      "outputs": []
    }
  ]
}